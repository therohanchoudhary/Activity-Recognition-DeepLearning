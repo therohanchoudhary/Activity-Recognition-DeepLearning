{
 "cells": [
  {
   "cell_type": "code",
   "execution_count": 2,
   "id": "39404686",
   "metadata": {},
   "outputs": [
    {
     "name": "stdout",
     "output_type": "stream",
     "text": [
      "2.10.0\n"
     ]
    }
   ],
   "source": [
    "import tensorflow as tf\n",
    "from tensorflow.keras import Sequential\n",
    "from tensorflow.keras.layers import Flatten, Dense, Dropout,BatchNormalization\n",
    "from tensorflow.keras.layers import Conv2D, MaxPool2D\n",
    "from tensorflow.keras.optimizers import Adam\n",
    "print(tf.__version__)"
   ]
  },
  {
   "cell_type": "code",
   "execution_count": 3,
   "id": "e3f88656",
   "metadata": {},
   "outputs": [],
   "source": [
    "import pandas as pd\n",
    "import numpy as np\n",
    "import matplotlib.pyplot as plt\n",
    "from sklearn.model_selection import train_test_split\n",
    "from sklearn.preprocessing import StandardScaler, LabelEncoder"
   ]
  },
  {
   "cell_type": "code",
   "execution_count": 5,
   "id": "6b450326",
   "metadata": {},
   "outputs": [
    {
     "name": "stdout",
     "output_type": "stream",
     "text": [
      "ERROR at line number:  281873\n",
      "ERROR at line number:  281874\n",
      "ERROR at line number:  281875\n"
     ]
    }
   ],
   "source": [
    "file = open('WISDM_ar_v1.1/WISDM_ar_v1.1_raw.txt')\n",
    "lines = file.readlines()\n",
    "processedList = []\n",
    "\n",
    "for i, line in enumerate(lines):\n",
    "    try:\n",
    "        line = line.split(',')\n",
    "        last = line[5].split(';')[0]\n",
    "        last = last.strip()\n",
    "        if last == '':\n",
    "            break\n",
    "        temp = [line[0], line[1], line[2], line[3], line[4], last]\n",
    "        processedList.append(temp)\n",
    "    except:\n",
    "        print('ERROR at line number: ', i)"
   ]
  },
  {
   "cell_type": "code",
   "execution_count": 8,
   "id": "816b09a9",
   "metadata": {},
   "outputs": [
    {
     "data": {
      "text/html": [
       "<div>\n",
       "<style scoped>\n",
       "    .dataframe tbody tr th:only-of-type {\n",
       "        vertical-align: middle;\n",
       "    }\n",
       "\n",
       "    .dataframe tbody tr th {\n",
       "        vertical-align: top;\n",
       "    }\n",
       "\n",
       "    .dataframe thead th {\n",
       "        text-align: right;\n",
       "    }\n",
       "</style>\n",
       "<table border=\"1\" class=\"dataframe\">\n",
       "  <thead>\n",
       "    <tr style=\"text-align: right;\">\n",
       "      <th></th>\n",
       "      <th>user</th>\n",
       "      <th>activity</th>\n",
       "      <th>time</th>\n",
       "      <th>x</th>\n",
       "      <th>y</th>\n",
       "      <th>z</th>\n",
       "    </tr>\n",
       "  </thead>\n",
       "  <tbody>\n",
       "    <tr>\n",
       "      <th>0</th>\n",
       "      <td>33</td>\n",
       "      <td>Jogging</td>\n",
       "      <td>49105962326000</td>\n",
       "      <td>-0.6946377</td>\n",
       "      <td>12.680544</td>\n",
       "      <td>0.50395286</td>\n",
       "    </tr>\n",
       "    <tr>\n",
       "      <th>1</th>\n",
       "      <td>33</td>\n",
       "      <td>Jogging</td>\n",
       "      <td>49106062271000</td>\n",
       "      <td>5.012288</td>\n",
       "      <td>11.264028</td>\n",
       "      <td>0.95342433</td>\n",
       "    </tr>\n",
       "    <tr>\n",
       "      <th>2</th>\n",
       "      <td>33</td>\n",
       "      <td>Jogging</td>\n",
       "      <td>49106112167000</td>\n",
       "      <td>4.903325</td>\n",
       "      <td>10.882658</td>\n",
       "      <td>-0.08172209</td>\n",
       "    </tr>\n",
       "    <tr>\n",
       "      <th>3</th>\n",
       "      <td>33</td>\n",
       "      <td>Jogging</td>\n",
       "      <td>49106222305000</td>\n",
       "      <td>-0.61291564</td>\n",
       "      <td>18.496431</td>\n",
       "      <td>3.0237172</td>\n",
       "    </tr>\n",
       "    <tr>\n",
       "      <th>4</th>\n",
       "      <td>33</td>\n",
       "      <td>Jogging</td>\n",
       "      <td>49106332290000</td>\n",
       "      <td>-1.1849703</td>\n",
       "      <td>12.108489</td>\n",
       "      <td>7.205164</td>\n",
       "    </tr>\n",
       "    <tr>\n",
       "      <th>...</th>\n",
       "      <td>...</td>\n",
       "      <td>...</td>\n",
       "      <td>...</td>\n",
       "      <td>...</td>\n",
       "      <td>...</td>\n",
       "      <td>...</td>\n",
       "    </tr>\n",
       "    <tr>\n",
       "      <th>343411</th>\n",
       "      <td>11</td>\n",
       "      <td>Walking</td>\n",
       "      <td>1786872234000</td>\n",
       "      <td>0.31</td>\n",
       "      <td>10.73</td>\n",
       "      <td>0.040861044</td>\n",
       "    </tr>\n",
       "    <tr>\n",
       "      <th>343412</th>\n",
       "      <td>11</td>\n",
       "      <td>Walking</td>\n",
       "      <td>1786922282000</td>\n",
       "      <td>2.76</td>\n",
       "      <td>10.95</td>\n",
       "      <td>0.84446156</td>\n",
       "    </tr>\n",
       "    <tr>\n",
       "      <th>343413</th>\n",
       "      <td>11</td>\n",
       "      <td>Walking</td>\n",
       "      <td>1786972392000</td>\n",
       "      <td>0.8</td>\n",
       "      <td>10.15</td>\n",
       "      <td>1.334794</td>\n",
       "    </tr>\n",
       "    <tr>\n",
       "      <th>343414</th>\n",
       "      <td>11</td>\n",
       "      <td>Walking</td>\n",
       "      <td>1787022227000</td>\n",
       "      <td>-1.57</td>\n",
       "      <td>8.69</td>\n",
       "      <td>1.4165162</td>\n",
       "    </tr>\n",
       "    <tr>\n",
       "      <th>343415</th>\n",
       "      <td>11</td>\n",
       "      <td>Walking</td>\n",
       "      <td>1787072368000</td>\n",
       "      <td>-2.56</td>\n",
       "      <td>8.58</td>\n",
       "      <td>1.879608</td>\n",
       "    </tr>\n",
       "  </tbody>\n",
       "</table>\n",
       "<p>343416 rows × 6 columns</p>\n",
       "</div>"
      ],
      "text/plain": [
       "       user activity            time            x          y            z\n",
       "0        33  Jogging  49105962326000   -0.6946377  12.680544   0.50395286\n",
       "1        33  Jogging  49106062271000     5.012288  11.264028   0.95342433\n",
       "2        33  Jogging  49106112167000     4.903325  10.882658  -0.08172209\n",
       "3        33  Jogging  49106222305000  -0.61291564  18.496431    3.0237172\n",
       "4        33  Jogging  49106332290000   -1.1849703  12.108489     7.205164\n",
       "...     ...      ...             ...          ...        ...          ...\n",
       "343411   11  Walking   1786872234000         0.31      10.73  0.040861044\n",
       "343412   11  Walking   1786922282000         2.76      10.95   0.84446156\n",
       "343413   11  Walking   1786972392000          0.8      10.15     1.334794\n",
       "343414   11  Walking   1787022227000        -1.57       8.69    1.4165162\n",
       "343415   11  Walking   1787072368000        -2.56       8.58     1.879608\n",
       "\n",
       "[343416 rows x 6 columns]"
      ]
     },
     "execution_count": 8,
     "metadata": {},
     "output_type": "execute_result"
    }
   ],
   "source": [
    "data = pd.DataFrame(data = processedList, columns = ['user', 'activity', 'time', 'x', 'y', 'z'])\n",
    "data"
   ]
  },
  {
   "cell_type": "code",
   "execution_count": 9,
   "id": "a43cb68b",
   "metadata": {},
   "outputs": [
    {
     "data": {
      "text/html": [
       "<div>\n",
       "<style scoped>\n",
       "    .dataframe tbody tr th:only-of-type {\n",
       "        vertical-align: middle;\n",
       "    }\n",
       "\n",
       "    .dataframe tbody tr th {\n",
       "        vertical-align: top;\n",
       "    }\n",
       "\n",
       "    .dataframe thead th {\n",
       "        text-align: right;\n",
       "    }\n",
       "</style>\n",
       "<table border=\"1\" class=\"dataframe\">\n",
       "  <thead>\n",
       "    <tr style=\"text-align: right;\">\n",
       "      <th></th>\n",
       "      <th>user</th>\n",
       "      <th>activity</th>\n",
       "      <th>time</th>\n",
       "      <th>x</th>\n",
       "      <th>y</th>\n",
       "      <th>z</th>\n",
       "    </tr>\n",
       "  </thead>\n",
       "  <tbody>\n",
       "    <tr>\n",
       "      <th>count</th>\n",
       "      <td>343416</td>\n",
       "      <td>343416</td>\n",
       "      <td>343416</td>\n",
       "      <td>343416</td>\n",
       "      <td>343416</td>\n",
       "      <td>343416</td>\n",
       "    </tr>\n",
       "    <tr>\n",
       "      <th>unique</th>\n",
       "      <td>13</td>\n",
       "      <td>6</td>\n",
       "      <td>303353</td>\n",
       "      <td>1755</td>\n",
       "      <td>1800</td>\n",
       "      <td>995</td>\n",
       "    </tr>\n",
       "    <tr>\n",
       "      <th>top</th>\n",
       "      <td>20</td>\n",
       "      <td>Walking</td>\n",
       "      <td>0</td>\n",
       "      <td>0</td>\n",
       "      <td>0</td>\n",
       "      <td>0.0</td>\n",
       "    </tr>\n",
       "    <tr>\n",
       "      <th>freq</th>\n",
       "      <td>35599</td>\n",
       "      <td>137375</td>\n",
       "      <td>12826</td>\n",
       "      <td>13880</td>\n",
       "      <td>13052</td>\n",
       "      <td>12823</td>\n",
       "    </tr>\n",
       "  </tbody>\n",
       "</table>\n",
       "</div>"
      ],
      "text/plain": [
       "          user activity    time       x       y       z\n",
       "count   343416   343416  343416  343416  343416  343416\n",
       "unique      13        6  303353    1755    1800     995\n",
       "top         20  Walking       0       0       0     0.0\n",
       "freq     35599   137375   12826   13880   13052   12823"
      ]
     },
     "execution_count": 9,
     "metadata": {},
     "output_type": "execute_result"
    }
   ],
   "source": [
    "data.describe()"
   ]
  },
  {
   "cell_type": "code",
   "execution_count": 10,
   "id": "89457884",
   "metadata": {},
   "outputs": [
    {
     "name": "stdout",
     "output_type": "stream",
     "text": [
      "<class 'pandas.core.frame.DataFrame'>\n",
      "RangeIndex: 343416 entries, 0 to 343415\n",
      "Data columns (total 6 columns):\n",
      " #   Column    Non-Null Count   Dtype \n",
      "---  ------    --------------   ----- \n",
      " 0   user      343416 non-null  object\n",
      " 1   activity  343416 non-null  object\n",
      " 2   time      343416 non-null  object\n",
      " 3   x         343416 non-null  object\n",
      " 4   y         343416 non-null  object\n",
      " 5   z         343416 non-null  object\n",
      "dtypes: object(6)\n",
      "memory usage: 15.7+ MB\n"
     ]
    }
   ],
   "source": [
    "data.info()"
   ]
  },
  {
   "cell_type": "code",
   "execution_count": 11,
   "id": "90760fbd",
   "metadata": {},
   "outputs": [
    {
     "data": {
      "text/plain": [
       "user        0\n",
       "activity    0\n",
       "time        0\n",
       "x           0\n",
       "y           0\n",
       "z           0\n",
       "dtype: int64"
      ]
     },
     "execution_count": 11,
     "metadata": {},
     "output_type": "execute_result"
    }
   ],
   "source": [
    "data.isnull().sum()"
   ]
  },
  {
   "cell_type": "code",
   "execution_count": 12,
   "id": "2deacf15",
   "metadata": {},
   "outputs": [
    {
     "data": {
      "text/plain": [
       "Walking       137375\n",
       "Jogging       129392\n",
       "Upstairs       35137\n",
       "Downstairs     33358\n",
       "Sitting         4599\n",
       "Standing        3555\n",
       "Name: activity, dtype: int64"
      ]
     },
     "execution_count": 12,
     "metadata": {},
     "output_type": "execute_result"
    }
   ],
   "source": [
    "data['activity'].value_counts()"
   ]
  },
  {
   "cell_type": "code",
   "execution_count": 13,
   "id": "b545952b",
   "metadata": {},
   "outputs": [
    {
     "data": {
      "text/html": [
       "<div>\n",
       "<style scoped>\n",
       "    .dataframe tbody tr th:only-of-type {\n",
       "        vertical-align: middle;\n",
       "    }\n",
       "\n",
       "    .dataframe tbody tr th {\n",
       "        vertical-align: top;\n",
       "    }\n",
       "\n",
       "    .dataframe thead th {\n",
       "        text-align: right;\n",
       "    }\n",
       "</style>\n",
       "<table border=\"1\" class=\"dataframe\">\n",
       "  <thead>\n",
       "    <tr style=\"text-align: right;\">\n",
       "      <th></th>\n",
       "      <th>x</th>\n",
       "      <th>y</th>\n",
       "      <th>z</th>\n",
       "    </tr>\n",
       "  </thead>\n",
       "  <tbody>\n",
       "    <tr>\n",
       "      <th>count</th>\n",
       "      <td>343416.000000</td>\n",
       "      <td>343416.000000</td>\n",
       "      <td>343416.000000</td>\n",
       "    </tr>\n",
       "    <tr>\n",
       "      <th>mean</th>\n",
       "      <td>1.007548</td>\n",
       "      <td>8.062965</td>\n",
       "      <td>0.306067</td>\n",
       "    </tr>\n",
       "    <tr>\n",
       "      <th>std</th>\n",
       "      <td>6.592155</td>\n",
       "      <td>6.624386</td>\n",
       "      <td>4.455004</td>\n",
       "    </tr>\n",
       "    <tr>\n",
       "      <th>min</th>\n",
       "      <td>-19.610000</td>\n",
       "      <td>-19.610000</td>\n",
       "      <td>-19.613300</td>\n",
       "    </tr>\n",
       "    <tr>\n",
       "      <th>25%</th>\n",
       "      <td>-2.301839</td>\n",
       "      <td>3.990000</td>\n",
       "      <td>-2.179256</td>\n",
       "    </tr>\n",
       "    <tr>\n",
       "      <th>50%</th>\n",
       "      <td>0.230000</td>\n",
       "      <td>8.660000</td>\n",
       "      <td>0.000000</td>\n",
       "    </tr>\n",
       "    <tr>\n",
       "      <th>75%</th>\n",
       "      <td>4.020000</td>\n",
       "      <td>12.530000</td>\n",
       "      <td>2.492524</td>\n",
       "    </tr>\n",
       "    <tr>\n",
       "      <th>max</th>\n",
       "      <td>19.570000</td>\n",
       "      <td>19.572440</td>\n",
       "      <td>19.231932</td>\n",
       "    </tr>\n",
       "  </tbody>\n",
       "</table>\n",
       "</div>"
      ],
      "text/plain": [
       "                   x              y              z\n",
       "count  343416.000000  343416.000000  343416.000000\n",
       "mean        1.007548       8.062965       0.306067\n",
       "std         6.592155       6.624386       4.455004\n",
       "min       -19.610000     -19.610000     -19.613300\n",
       "25%        -2.301839       3.990000      -2.179256\n",
       "50%         0.230000       8.660000       0.000000\n",
       "75%         4.020000      12.530000       2.492524\n",
       "max        19.570000      19.572440      19.231932"
      ]
     },
     "execution_count": 13,
     "metadata": {},
     "output_type": "execute_result"
    }
   ],
   "source": [
    "data['x'] = data['x'].astype('float')\n",
    "data['y'] = data['y'].astype('float')\n",
    "data['z'] = data['z'].astype('float')\n",
    "data.describe()"
   ]
  },
  {
   "cell_type": "code",
   "execution_count": 14,
   "id": "7a629f6e",
   "metadata": {},
   "outputs": [],
   "source": [
    "Fs = 20"
   ]
  },
  {
   "cell_type": "code",
   "execution_count": null,
   "id": "c2fab122",
   "metadata": {},
   "outputs": [],
   "source": [
    "def plot_axis(ax, x, y, title):\n",
    "    ax.plot(x, y, 'g')\n",
    "    ax.set_title(title)\n",
    "    ax.xaxis.set_visible(False)\n",
    "    ax.set_ylim([min(y) - np.std(y), max(y) + np.std(y)])\n",
    "    ax.set_xlim([min(x)])\n",
    "    ax.grid(True)\n",
    "\n",
    "def plot_activity(activity, data):\n",
    "    fig, (ax0, ax1, ax2) = plt.subplots(nrows = 3, figsize = (15, 7), sharex = True)\n",
    "    plot_axis(ax0, data.time, data.x, 'X-axis')\n",
    "    plot_axis(ax1, data.time, data.y, 'Y-axis')\n",
    "    plot_axis(ax2, data.time, data.z, 'Z-axis')\n",
    "    plt.subplots_adjust(hspace = 0.2)\n",
    "    fig.suptitle(activity)\n",
    "    plt.subplots_adjust(top = 0.9)\n",
    "    plt.show()\n"
   ]
  }
 ],
 "metadata": {
  "kernelspec": {
   "display_name": "Python 3 (ipykernel)",
   "language": "python",
   "name": "python3"
  },
  "language_info": {
   "codemirror_mode": {
    "name": "ipython",
    "version": 3
   },
   "file_extension": ".py",
   "mimetype": "text/x-python",
   "name": "python",
   "nbconvert_exporter": "python",
   "pygments_lexer": "ipython3",
   "version": "3.8.13"
  }
 },
 "nbformat": 4,
 "nbformat_minor": 5
}
